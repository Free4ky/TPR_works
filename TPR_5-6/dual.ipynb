{
 "cells": [
  {
   "cell_type": "code",
   "execution_count": 34,
   "metadata": {},
   "outputs": [],
   "source": [
    "import simplex\n",
    "import numpy as np\n",
    "import math"
   ]
  },
  {
   "cell_type": "code",
   "execution_count": 38,
   "metadata": {},
   "outputs": [],
   "source": [
    "# Получаем матрицу, состоящую из векторов из коэффициентов при переменных целевой функции прямой задачи\n",
    "def get_straight_vectors():\n",
    "    a = []\n",
    "    a.extend(simplex.a1[:-1])\n",
    "    a.extend(simplex.a2[:-1])\n",
    "    for i in range(4):\n",
    "        buf = np.zeros(4)\n",
    "        buf[i] = 1\n",
    "        a.extend(buf)\n",
    "    a = np.reshape(a,(6,4))\n",
    "    return a\n",
    "a = get_straight_vectors()"
   ]
  },
  {
   "cell_type": "code",
   "execution_count": 15,
   "metadata": {},
   "outputs": [
    {
     "data": {
      "text/plain": [
       "[{'4': 0}, {'2': 300}, {'5': 0}, {'1': 260}]"
      ]
     },
     "execution_count": 15,
     "metadata": {},
     "output_type": "execute_result"
    }
   ],
   "source": [
    "# list(d_cj[0].keys())[0]\n",
    "# Получаем словари базисных и небазисных векторов\n",
    "d_cj = simplex.d_cj\n",
    "d_cb = simplex.d_cb\n",
    "d_cb"
   ]
  },
  {
   "cell_type": "code",
   "execution_count": 37,
   "metadata": {},
   "outputs": [
    {
     "data": {
      "text/plain": [
       "24000"
      ]
     },
     "execution_count": 37,
     "metadata": {},
     "output_type": "execute_result"
    }
   ],
   "source": [
    "#Составляем матрицу базисных векторов (Полученных в результате решения задачи симплекс методом)\n",
    "D = []\n",
    "for item in d_cb:\n",
    "    index = int(list(item.keys())[0]) - 1\n",
    "    D.extend(a[index])\n",
    "D = np.reshape(D,(4,4))\n",
    "D = D.T\n",
    "# Находим обратную матрицу Базисных векторов\n",
    "D_inv = np.linalg.inv(D)\n",
    "#Находим вектор решений двойственной задачи по формуле Cb * D^-1\n",
    "cb = simplex.cb\n",
    "g = cb @ D_inv\n",
    "# Найдем минимальное значение целевой функции двойственной задачи\n",
    "a0 = simplex.a0[:-1]\n",
    "g_min = math.ceil(g @ a0)\n",
    "g_min"
   ]
  }
 ],
 "metadata": {
  "interpreter": {
   "hash": "3de9e46c380ad9904d31a176de8a8de1a5e5ee68e1de9e19d506981181c2024f"
  },
  "kernelspec": {
   "display_name": "Python 3.10.2 64-bit",
   "language": "python",
   "name": "python3"
  },
  "language_info": {
   "codemirror_mode": {
    "name": "ipython",
    "version": 3
   },
   "file_extension": ".py",
   "mimetype": "text/x-python",
   "name": "python",
   "nbconvert_exporter": "python",
   "pygments_lexer": "ipython3",
   "version": "3.10.2"
  },
  "orig_nbformat": 4
 },
 "nbformat": 4,
 "nbformat_minor": 2
}
